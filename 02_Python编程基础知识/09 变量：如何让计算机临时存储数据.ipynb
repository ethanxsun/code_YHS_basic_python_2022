{
 "cells": [
  {
   "cell_type": "markdown",
   "id": "d31be30e",
   "metadata": {},
   "source": [
    "# 9 变量：如何让计算机临时存储数据"
   ]
  },
  {
   "cell_type": "markdown",
   "id": "3f7c7d9c",
   "metadata": {},
   "source": [
    "## 普通赋值"
   ]
  },
  {
   "cell_type": "code",
   "execution_count": 3,
   "id": "6b6aeba2-0feb-4d48-ba12-c0430b3d8821",
   "metadata": {},
   "outputs": [],
   "source": [
    "x = 123"
   ]
  },
  {
   "cell_type": "code",
   "execution_count": 4,
   "id": "6575ce85-2cb4-4ad5-ad93-a066aec5b5c7",
   "metadata": {},
   "outputs": [
    {
     "name": "stdout",
     "output_type": "stream",
     "text": [
      "123\n"
     ]
    }
   ],
   "source": [
    "print( x ) "
   ]
  },
  {
   "cell_type": "code",
   "execution_count": 5,
   "id": "9b501d7d-973d-4a68-802d-308b2ddf6c79",
   "metadata": {},
   "outputs": [
    {
     "name": "stdout",
     "output_type": "stream",
     "text": [
      "456\n"
     ]
    }
   ],
   "source": [
    "x = 456\n",
    "print( x )"
   ]
  },
  {
   "cell_type": "code",
   "execution_count": 6,
   "id": "1a78ad4f-8828-4159-a02e-95bf6a625600",
   "metadata": {},
   "outputs": [
    {
     "name": "stdout",
     "output_type": "stream",
     "text": [
      "456\n"
     ]
    }
   ],
   "source": [
    "# 把变量赋值给另外一个变量\n",
    "\n",
    "y = x\n",
    "print( y )"
   ]
  },
  {
   "cell_type": "markdown",
   "id": "c02f4c76",
   "metadata": {},
   "source": [
    "## 连续赋值"
   ]
  },
  {
   "cell_type": "code",
   "execution_count": 8,
   "id": "4fc3828f-8db6-42c6-8eb0-ec65818305fb",
   "metadata": {},
   "outputs": [
    {
     "name": "stdout",
     "output_type": "stream",
     "text": [
      "456\n"
     ]
    }
   ],
   "source": [
    "# 连续赋值\n",
    "\n",
    "z = y = x\n",
    "print(z)"
   ]
  },
  {
   "cell_type": "code",
   "execution_count": 9,
   "id": "44541993-6b65-4cd9-a4df-280bb3fedef7",
   "metadata": {},
   "outputs": [
    {
     "name": "stdout",
     "output_type": "stream",
     "text": [
      "111\n",
      "222\n"
     ]
    }
   ],
   "source": [
    "# 同时给多个变量赋值\n",
    "\n",
    "a, b = 111, 222\n",
    "print(a)\n",
    "print(b)"
   ]
  },
  {
   "cell_type": "code",
   "execution_count": 10,
   "id": "58c36558-d4e5-4368-a00c-515e2856bfbd",
   "metadata": {},
   "outputs": [
    {
     "ename": "ValueError",
     "evalue": "not enough values to unpack (expected 3, got 2)",
     "output_type": "error",
     "traceback": [
      "\u001b[1;31m---------------------------------------------------------------------------\u001b[0m",
      "\u001b[1;31mValueError\u001b[0m                                Traceback (most recent call last)",
      "\u001b[1;32m<ipython-input-10-ca867d48a099>\u001b[0m in \u001b[0;36m<module>\u001b[1;34m\u001b[0m\n\u001b[0;32m      1\u001b[0m \u001b[1;31m# 错误案例：多个值赋值给多个变量时，变量的个数与值得个数必须相等\u001b[0m\u001b[1;33m\u001b[0m\u001b[1;33m\u001b[0m\u001b[1;33m\u001b[0m\u001b[0m\n\u001b[0;32m      2\u001b[0m \u001b[1;33m\u001b[0m\u001b[0m\n\u001b[1;32m----> 3\u001b[1;33m \u001b[0ma\u001b[0m\u001b[1;33m,\u001b[0m \u001b[0mb\u001b[0m\u001b[1;33m,\u001b[0m \u001b[0mc\u001b[0m \u001b[1;33m=\u001b[0m \u001b[1;36m11\u001b[0m\u001b[1;33m,\u001b[0m \u001b[1;36m22\u001b[0m\u001b[1;33m\u001b[0m\u001b[1;33m\u001b[0m\u001b[0m\n\u001b[0m",
      "\u001b[1;31mValueError\u001b[0m: not enough values to unpack (expected 3, got 2)"
     ]
    }
   ],
   "source": [
    "# 错误案例：多个值赋值给多个变量时，变量的个数与值得个数必须相等\n",
    "\n",
    "a, b, c = 11, 22"
   ]
  },
  {
   "cell_type": "code",
   "execution_count": 13,
   "id": "bc38ef63-f97e-4d1f-88d1-0e66c066e773",
   "metadata": {},
   "outputs": [
    {
     "name": "stdout",
     "output_type": "stream",
     "text": [
      "1234\n",
      "1234\n",
      "1234\n",
      "456\n",
      "1234\n",
      "1234\n"
     ]
    }
   ],
   "source": [
    "x = 1234\n",
    "z = y = x\n",
    "print(x)\n",
    "print(y)\n",
    "print(z)\n",
    "\n",
    "# y, z不会被改变\n",
    "x = 456\n",
    "print(x)\n",
    "print(y)\n",
    "print(z)"
   ]
  }
 ],
 "metadata": {
  "kernelspec": {
   "display_name": "base",
   "language": "python",
   "name": "python3"
  },
  "language_info": {
   "codemirror_mode": {
    "name": "ipython",
    "version": 3
   },
   "file_extension": ".py",
   "mimetype": "text/x-python",
   "name": "python",
   "nbconvert_exporter": "python",
   "pygments_lexer": "ipython3",
   "version": "3.7.6 (default, Jan  8 2020, 20:23:39) [MSC v.1916 64 bit (AMD64)]"
  },
  "vscode": {
   "interpreter": {
    "hash": "ad2bdc8ecc057115af97d19610ffacc2b4e99fae6737bb82f5d7fb13d2f2c186"
   }
  }
 },
 "nbformat": 4,
 "nbformat_minor": 5
}
