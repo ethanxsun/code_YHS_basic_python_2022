{
 "cells": [
  {
   "cell_type": "code",
   "execution_count": 2,
   "id": "f1b76d6e-88fc-482f-86b2-49e50e09d181",
   "metadata": {},
   "outputs": [
    {
     "data": {
      "text/plain": [
       "''"
      ]
     },
     "execution_count": 2,
     "metadata": {},
     "output_type": "execute_result"
    }
   ],
   "source": [
    "input()"
   ]
  },
  {
   "cell_type": "code",
   "execution_count": 3,
   "id": "097a16eb-ebbb-4cb0-b34c-3617caa7cd06",
   "metadata": {},
   "outputs": [
    {
     "data": {
      "text/plain": [
       "'323232'"
      ]
     },
     "execution_count": 3,
     "metadata": {},
     "output_type": "execute_result"
    }
   ],
   "source": [
    "input(\"请输入数字\")"
   ]
  },
  {
   "cell_type": "code",
   "execution_count": 4,
   "id": "ff857ef0-a757-4d47-99a3-434bc314dfbe",
   "metadata": {},
   "outputs": [
    {
     "data": {
      "text/plain": [
       "'23232'"
      ]
     },
     "execution_count": 4,
     "metadata": {},
     "output_type": "execute_result"
    }
   ],
   "source": [
    "input(\"number: \\n\")"
   ]
  },
  {
   "cell_type": "code",
   "execution_count": 5,
   "id": "da364ac9-fcab-4eb2-8cc8-fa21ea448963",
   "metadata": {},
   "outputs": [
    {
     "name": "stdout",
     "output_type": "stream",
     "text": [
      "223\n",
      "23\n"
     ]
    }
   ],
   "source": [
    "var1 = input(\"1\")\n",
    "var2 = input(\"2\")\n",
    "print(var2)\n",
    "print(var1)"
   ]
  },
  {
   "cell_type": "code",
   "execution_count": null,
   "id": "68ec83e5-c15c-4490-bf55-302e6c22d363",
   "metadata": {},
   "outputs": [],
   "source": []
  }
 ],
 "metadata": {
  "kernelspec": {
   "display_name": "base",
   "language": "python",
   "name": "python3"
  },
  "language_info": {
   "codemirror_mode": {
    "name": "ipython",
    "version": 3
   },
   "file_extension": ".py",
   "mimetype": "text/x-python",
   "name": "python",
   "nbconvert_exporter": "python",
   "pygments_lexer": "ipython3",
   "version": "3.7.6"
  },
  "vscode": {
   "interpreter": {
    "hash": "ad2bdc8ecc057115af97d19610ffacc2b4e99fae6737bb82f5d7fb13d2f2c186"
   }
  }
 },
 "nbformat": 4,
 "nbformat_minor": 5
}
