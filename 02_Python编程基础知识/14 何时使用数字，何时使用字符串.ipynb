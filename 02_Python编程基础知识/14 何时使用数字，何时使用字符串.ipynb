{
 "cells": [
  {
   "cell_type": "markdown",
   "id": "0e0c287a",
   "metadata": {},
   "source": [
    "# 何时使用数字，何时使用字符串"
   ]
  },
  {
   "cell_type": "code",
   "execution_count": 8,
   "id": "99d61e8f-0299-471e-bc91-c0d36456382b",
   "metadata": {},
   "outputs": [
    {
     "name": "stdout",
     "output_type": "stream",
     "text": [
      "输入一个数字 123\n",
      "输入一个数字 456\n"
     ]
    },
    {
     "name": "stdout",
     "output_type": "stream",
     "text": [
      "579\n"
     ]
    }
   ],
   "source": [
    "num1 = input(\"输入一个数字\")\n",
    "num2 = input(\"输入一个数字\")\n",
    "\n",
    "# num2 = int(num1)\n",
    "\n",
    "sum = eval(f\"{num1}+{num2}\")\n",
    "\n",
    "print(sum)\n",
    "\n",
    "# print(type(num2))"
   ]
  },
  {
   "cell_type": "code",
   "execution_count": 9,
   "id": "650aefad-1aec-4edc-85e9-09c046b7aafa",
   "metadata": {},
   "outputs": [
    {
     "name": "stdout",
     "output_type": "stream",
     "text": [
      "输入一个数字 123\n",
      "输入另个数字 456\n",
      "请输入运算符号 +\n"
     ]
    },
    {
     "name": "stdout",
     "output_type": "stream",
     "text": [
      "计算结果为579\n"
     ]
    }
   ],
   "source": [
    "# 计算两个整数的四则运算计算器\n",
    "\n",
    "num1 = input(\"输入一个数字\")\n",
    "num2 = input(\"输入另个数字\")\n",
    "op = input(\"请输入运算符号\")\n",
    "result = eval(f\"{num1}{op}{num2}\")\n",
    "print(f\"计算结果为{result}\")"
   ]
  },
  {
   "cell_type": "code",
   "execution_count": null,
   "id": "bf6c2a52-ed22-4e69-8d05-0677fc887617",
   "metadata": {},
   "outputs": [],
   "source": []
  }
 ],
 "metadata": {
  "kernelspec": {
   "display_name": "base",
   "language": "python",
   "name": "python3"
  },
  "language_info": {
   "codemirror_mode": {
    "name": "ipython",
    "version": 3
   },
   "file_extension": ".py",
   "mimetype": "text/x-python",
   "name": "python",
   "nbconvert_exporter": "python",
   "pygments_lexer": "ipython3",
   "version": "3.7.6 (default, Jan  8 2020, 20:23:39) [MSC v.1916 64 bit (AMD64)]"
  },
  "vscode": {
   "interpreter": {
    "hash": "ad2bdc8ecc057115af97d19610ffacc2b4e99fae6737bb82f5d7fb13d2f2c186"
   }
  }
 },
 "nbformat": 4,
 "nbformat_minor": 5
}
