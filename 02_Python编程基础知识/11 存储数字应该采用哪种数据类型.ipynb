{
 "cells": [
  {
   "attachments": {},
   "cell_type": "markdown",
   "id": "9e9ab98e",
   "metadata": {},
   "source": [
    "# 存储数字应该采用哪种数据类型"
   ]
  },
  {
   "attachments": {},
   "cell_type": "markdown",
   "id": "c69e7c0b",
   "metadata": {},
   "source": [
    "## 强制转换"
   ]
  },
  {
   "cell_type": "code",
   "execution_count": 1,
   "id": "f8f6166e-d236-4bf5-8fcf-00914afee8eb",
   "metadata": {},
   "outputs": [
    {
     "name": "stdout",
     "output_type": "stream",
     "text": [
      "123\n"
     ]
    }
   ],
   "source": [
    "# float强制转换为int\n",
    "print( int(123.456) )"
   ]
  },
  {
   "cell_type": "code",
   "execution_count": 1,
   "id": "1301fa7f-a27e-4902-8841-3072f1dd2b91",
   "metadata": {},
   "outputs": [
    {
     "name": "stdout",
     "output_type": "stream",
     "text": [
      "<class 'str'>\n"
     ]
    }
   ],
   "source": [
    "abc = \"123\"\n",
    "print(type(abc))"
   ]
  },
  {
   "cell_type": "code",
   "execution_count": 2,
   "id": "2dc72a8f",
   "metadata": {},
   "outputs": [
    {
     "name": "stdout",
     "output_type": "stream",
     "text": [
      "<class 'int'>\n"
     ]
    }
   ],
   "source": [
    "xyz = int(abc)\n",
    "print( type(xyz) )"
   ]
  },
  {
   "cell_type": "code",
   "execution_count": null,
   "id": "058b0b65-16d7-4a7c-b83f-2ffbfb1612dd",
   "metadata": {},
   "outputs": [],
   "source": []
  }
 ],
 "metadata": {
  "kernelspec": {
   "display_name": "base",
   "language": "python",
   "name": "python3"
  },
  "language_info": {
   "codemirror_mode": {
    "name": "ipython",
    "version": 3
   },
   "file_extension": ".py",
   "mimetype": "text/x-python",
   "name": "python",
   "nbconvert_exporter": "python",
   "pygments_lexer": "ipython3",
   "version": "3.7.6"
  },
  "vscode": {
   "interpreter": {
    "hash": "ad2bdc8ecc057115af97d19610ffacc2b4e99fae6737bb82f5d7fb13d2f2c186"
   }
  }
 },
 "nbformat": 4,
 "nbformat_minor": 5
}
