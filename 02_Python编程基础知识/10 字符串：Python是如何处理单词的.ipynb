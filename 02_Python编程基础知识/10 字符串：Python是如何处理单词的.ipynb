{
 "cells": [
  {
   "attachments": {},
   "cell_type": "markdown",
   "id": "4838cc89",
   "metadata": {},
   "source": [
    "# 10-11 字符串：Python是如何处理单词的"
   ]
  },
  {
   "cell_type": "markdown",
   "id": "2d2eed15",
   "metadata": {},
   "source": [
    "## 怎样定义字符串"
   ]
  },
  {
   "cell_type": "code",
   "execution_count": 1,
   "id": "6db484eb-a3e7-47f7-b356-a9b632cc7645",
   "metadata": {},
   "outputs": [
    {
     "name": "stdout",
     "output_type": "stream",
     "text": [
      "Hello Python\n"
     ]
    }
   ],
   "source": [
    "print(\"Hello Python\")"
   ]
  },
  {
   "cell_type": "code",
   "execution_count": 2,
   "id": "3ba9e92b-ea57-4106-b7cb-732dffba6479",
   "metadata": {},
   "outputs": [
    {
     "name": "stdout",
     "output_type": "stream",
     "text": [
      "Hello \" Python \" \n"
     ]
    }
   ],
   "source": [
    "# 何时使用双引号和单引号的混合\n",
    "print( 'Hello \" Python \" ' )"
   ]
  },
  {
   "cell_type": "code",
   "execution_count": 4,
   "id": "d737e8f2",
   "metadata": {},
   "outputs": [
    {
     "name": "stdout",
     "output_type": "stream",
     "text": [
      "hello 'python'\n"
     ]
    }
   ],
   "source": [
    "# 使用转义符\n",
    "print(\"hello \\'python\\'\")"
   ]
  },
  {
   "cell_type": "code",
   "execution_count": 5,
   "id": "8d63c473-3732-4d18-a0fb-21fc6aeb9e52",
   "metadata": {},
   "outputs": [
    {
     "name": "stdout",
     "output_type": "stream",
     "text": [
      "\n",
      "Hello \n",
      "Python\n",
      "\n"
     ]
    }
   ],
   "source": [
    "# 输出多行文本\n",
    "print( '''\n",
    "Hello \n",
    "Python\n",
    "''' )"
   ]
  },
  {
   "cell_type": "markdown",
   "id": "510133f9",
   "metadata": {},
   "source": [
    "## 字符串中使用变量"
   ]
  },
  {
   "cell_type": "code",
   "execution_count": 4,
   "id": "67b4038b-400b-4818-9bc1-d24f0e8ee60b",
   "metadata": {},
   "outputs": [
    {
     "name": "stdout",
     "output_type": "stream",
     "text": [
      "123 是变量 x 的值\n"
     ]
    }
   ],
   "source": [
    "x = 123\n",
    "print( f\"{x} 是变量 x 的值\")"
   ]
  },
  {
   "cell_type": "markdown",
   "id": "802eb634",
   "metadata": {},
   "source": [
    "## 字符串的基本操作"
   ]
  },
  {
   "cell_type": "markdown",
   "id": "d03a17a3",
   "metadata": {},
   "source": [
    "### 成员运算"
   ]
  },
  {
   "cell_type": "code",
   "execution_count": 8,
   "id": "24d3a1d7-e591-4d81-9d3a-74fa47071028",
   "metadata": {},
   "outputs": [
    {
     "data": {
      "text/plain": [
       "True"
      ]
     },
     "execution_count": 8,
     "metadata": {},
     "output_type": "execute_result"
    }
   ],
   "source": [
    "# 成员运算，返回布尔值，简化了字符串的内容搜索\n",
    "\"xy\" in \"123xy456\" "
   ]
  },
  {
   "cell_type": "code",
   "execution_count": 9,
   "id": "707798b1-004a-4634-bfac-844967323851",
   "metadata": {},
   "outputs": [
    {
     "data": {
      "text/plain": [
       "False"
      ]
     },
     "execution_count": 9,
     "metadata": {},
     "output_type": "execute_result"
    }
   ],
   "source": [
    "# 成员运算，返回布尔值\n",
    "\"x\" not in \"123x456\""
   ]
  },
  {
   "cell_type": "markdown",
   "id": "c70da899",
   "metadata": {},
   "source": [
    "### 连接运算"
   ]
  },
  {
   "cell_type": "code",
   "execution_count": 11,
   "id": "40c38082-2f9a-416c-8db6-36d7984b3dd1",
   "metadata": {},
   "outputs": [
    {
     "data": {
      "text/plain": [
       "'abcxyz'"
      ]
     },
     "execution_count": 11,
     "metadata": {},
     "output_type": "execute_result"
    }
   ],
   "source": [
    "# 字符串的连接运算\n",
    "\"abc\" + \"xyz\""
   ]
  },
  {
   "cell_type": "code",
   "execution_count": 17,
   "id": "821caa83-184e-4836-bb8c-36a55a4d5beb",
   "metadata": {},
   "outputs": [
    {
     "name": "stdout",
     "output_type": "stream",
     "text": [
      "字符串的连接运算 s+t ：abcxyz \n",
      "字符串的连接运算 s*t:  abcabcabc \n",
      "abc\n",
      "xyz\n"
     ]
    }
   ],
   "source": [
    "x = \"abc\"\n",
    "y = \"xyz\"\n",
    "print(f'字符串的连接运算 s+t ：{x + y} ')\n",
    "print(f'字符串的连接运算 s*t:  {x * 3} ')\n",
    "\n",
    "# 连接运算不会改变原始的字符串\n",
    "print( x )\n",
    "print( y )"
   ]
  },
  {
   "cell_type": "markdown",
   "id": "b074cd9c",
   "metadata": {},
   "source": [
    "### 切片运算"
   ]
  },
  {
   "cell_type": "code",
   "execution_count": 21,
   "id": "9447acd8-1f9c-4a4e-bee6-064580842feb",
   "metadata": {},
   "outputs": [
    {
     "name": "stdout",
     "output_type": "stream",
     "text": [
      "a\n",
      "g\n",
      "bc\n",
      "bd\n"
     ]
    }
   ],
   "source": [
    "s = \"abcdefg\"\n",
    "\n",
    "# 提取第一个字符\n",
    "print(s[0])\n",
    "\n",
    "# 提取最后一个字符\n",
    "print(s[-1])\n",
    "\n",
    "# 提取一个范围: [start,end],不包含end\n",
    "# 提取第1-2字符\n",
    "print(s[1:3])\n",
    "\n",
    "# 提取一个范围：[start,end,step],不包含end\n",
    "# 如第2-5个字符，隔2个取一次\n",
    "print(s[1:5:2])"
   ]
  },
  {
   "cell_type": "markdown",
   "id": "06fa8da7",
   "metadata": {},
   "source": [
    "### 字符串的常用方法"
   ]
  },
  {
   "cell_type": "code",
   "execution_count": 4,
   "id": "6bd237a5-120e-407d-9907-fbfe028bb0ff",
   "metadata": {},
   "outputs": [
    {
     "data": {
      "text/plain": [
       "3"
      ]
     },
     "execution_count": 4,
     "metadata": {},
     "output_type": "execute_result"
    }
   ],
   "source": [
    "# 统计子串\n",
    "\"xyzxyzxyz\".count('x')"
   ]
  },
  {
   "cell_type": "code",
   "execution_count": 2,
   "id": "81e4ccc3-c4e9-45ba-99f4-29e87a2bbb05",
   "metadata": {},
   "outputs": [
    {
     "data": {
      "text/plain": [
       "2"
      ]
     },
     "execution_count": 2,
     "metadata": {},
     "output_type": "execute_result"
    }
   ],
   "source": [
    "# 统计子串\n",
    "\"xyzxyzxz\".count('xy')"
   ]
  },
  {
   "cell_type": "code",
   "execution_count": 44,
   "id": "9208aed7-45d2-43b0-8dbe-af3b5b5b65aa",
   "metadata": {},
   "outputs": [
    {
     "data": {
      "text/plain": [
       "0"
      ]
     },
     "execution_count": 44,
     "metadata": {},
     "output_type": "execute_result"
    }
   ],
   "source": [
    "\"xyzxyzxz\".count('a')"
   ]
  },
  {
   "cell_type": "code",
   "execution_count": 5,
   "id": "7ed04ee2-7879-4705-95e6-4bbaa8b3b1fe",
   "metadata": {},
   "outputs": [
    {
     "data": {
      "text/plain": [
       "True"
      ]
     },
     "execution_count": 5,
     "metadata": {},
     "output_type": "execute_result"
    }
   ],
   "source": [
    "# 判断所有的字符都是字母或者数字，且至少有一个字符\n",
    "\"xyzxyzxz\".isalnum()"
   ]
  },
  {
   "cell_type": "code",
   "execution_count": 6,
   "id": "221bfeb2-e895-4bc8-9b3b-12419558e6d9",
   "metadata": {},
   "outputs": [
    {
     "data": {
      "text/plain": [
       "True"
      ]
     },
     "execution_count": 6,
     "metadata": {},
     "output_type": "execute_result"
    }
   ],
   "source": [
    "# 判断字符串中所有字符都是字符，且至少有一个字符\n",
    "\"xyzxyzxz\".isalpha()"
   ]
  },
  {
   "cell_type": "code",
   "execution_count": 7,
   "id": "4d3e6ce7-f999-4da2-9936-978d35cd2632",
   "metadata": {},
   "outputs": [
    {
     "data": {
      "text/plain": [
       "'a,b,c,d,e,f,g'"
      ]
     },
     "execution_count": 7,
     "metadata": {},
     "output_type": "execute_result"
    }
   ],
   "source": [
    "# 返回拼接的字符串\n",
    "\",\".join(\"abcdefg\")"
   ]
  },
  {
   "cell_type": "code",
   "execution_count": 48,
   "id": "77c0c678-e1e6-48ff-acfe-7fc4f5772c7f",
   "metadata": {},
   "outputs": [
    {
     "data": {
      "text/plain": [
       "['a', 'b', 'c', 'd']"
      ]
     },
     "execution_count": 48,
     "metadata": {},
     "output_type": "execute_result"
    }
   ],
   "source": [
    "# 将字符串按照指定的分隔符分割隔，并放在列表中\n",
    "\"a,b,c,d\".split(\",\")"
   ]
  },
  {
   "cell_type": "code",
   "execution_count": 8,
   "id": "cdcffa9a-d0f9-42d7-bbbf-ec7d68ae04ab",
   "metadata": {},
   "outputs": [
    {
     "data": {
      "text/plain": [
       "False"
      ]
     },
     "execution_count": 8,
     "metadata": {},
     "output_type": "execute_result"
    }
   ],
   "source": [
    "# 是否以指定的字符串开头\n",
    "\"xyz\".startswith(\"y\")"
   ]
  },
  {
   "cell_type": "code",
   "execution_count": null,
   "id": "31f11da4",
   "metadata": {},
   "outputs": [],
   "source": []
  }
 ],
 "metadata": {
  "kernelspec": {
   "display_name": "Python 3.7.6 ('base')",
   "language": "python",
   "name": "python3"
  },
  "language_info": {
   "codemirror_mode": {
    "name": "ipython",
    "version": 3
   },
   "file_extension": ".py",
   "mimetype": "text/x-python",
   "name": "python",
   "nbconvert_exporter": "python",
   "pygments_lexer": "ipython3",
   "version": "3.7.6"
  },
  "vscode": {
   "interpreter": {
    "hash": "e4bcd8c1740793527b114db27907d7da00d708c10db333b451963b1adcc835a4"
   }
  }
 },
 "nbformat": 4,
 "nbformat_minor": 5
}
